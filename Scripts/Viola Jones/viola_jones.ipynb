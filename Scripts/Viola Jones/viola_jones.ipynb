{
 "cells": [
  {
   "cell_type": "code",
   "execution_count": 13,
   "metadata": {},
   "outputs": [],
   "source": [
    "import matplotlib.pyplot as plt\n",
    "import cv2 as cv\n",
    "import pandas as pd\n",
    "import os\n",
    "import numpy as np\n",
    "import seaborn as sns"
   ]
  },
  {
   "cell_type": "code",
   "execution_count": 14,
   "metadata": {},
   "outputs": [],
   "source": [
    "def names(cont):\n",
    "    path = 'C:/Users/navan/OneDrive/Escritorio/database/vj/' # Folder with the videos\n",
    "    fnames = os.listdir(path)         # List of the names of the videos\n",
    "    name = path + '/' + fnames[cont]  # Complete name of the video\n",
    "    short_name = fnames[cont]         # Short name of the video\n",
    "    length = len(fnames)              # Number of videos in the folder\n",
    "    return name, short_name, length\n",
    "\n",
    "def resize_img(image, height):\n",
    "    \"\"\"Resize an image propotional to the given height\"\"\"\n",
    "    ratio = height / image.shape[0]\n",
    "    img = cv.resize(image, (int(image.shape[1]*ratio), height), interpolation=cv.INTER_AREA)\n",
    "    return img\n",
    "\n",
    "def classification_report(cm):\n",
    "    \"\"\"Create a classification report from a confusion matrix\"\"\"\n",
    "    n_class = len(cm)\n",
    "    precision = cm.diagonal() / cm.sum(axis=1)  # Precision\n",
    "    recall = cm.diagonal() / cm.sum(axis=0)     # Sensitivity\n",
    "    f1_score = 2 * (precision * recall) / (precision + recall)  # F1 score\n",
    "\n",
    "    confusion_matrix = cm.astype(\"int\")\n",
    "    accuracy = np.trace(confusion_matrix) / float(np.sum(confusion_matrix))  # Accuracy\n",
    "\n",
    "    # Informe de clasificación\n",
    "    report = pd.DataFrame({\n",
    "        \"precision\": precision,\n",
    "        \"recall\": recall,\n",
    "        \"f1-score\": f1_score,\n",
    "        \"support\": confusion_matrix.sum(axis=1)\n",
    "    })\n",
    "\n",
    "    return report\n",
    "\n",
    "\n",
    "def detectFace(cont):\n",
    "    tfaces = 0\n",
    "    current_frame = 0\n",
    "    name_video = names(cont)[1]\n",
    "    cap = cv.VideoCapture('C:/Users/navan/OneDrive/Escritorio/database/vj/' + name_video)\n",
    "    \n",
    "    face_cascade = cv.CascadeClassifier(cv.data.haarcascades + 'haarcascade_frontalface_default.xml')\n",
    "    profile_cascade = cv.CascadeClassifier(cv.data.haarcascades + 'haarcascade_profileface.xml')\n",
    "\n",
    "    while True:\n",
    "        _, img = cap.read()\n",
    "\n",
    "        if not _:\n",
    "            break\n",
    "\n",
    "        num_frames = int(cap.get(cv.CAP_PROP_FRAME_COUNT))\n",
    "        img = resize_img(img, 299)\n",
    "        gray = cv.cvtColor(img, cv.COLOR_BGR2GRAY)\n",
    "        faces = face_cascade.detectMultiScale(gray, scaleFactor=1.1, minNeighbors=5, minSize=(30,30))\n",
    "        profiles = profile_cascade.detectMultiScale(gray, scaleFactor=1.1, minNeighbors=5, minSize=(30,30))\n",
    "\n",
    "        for (x, y, w, h) in faces:\n",
    "            cv.rectangle(img, (x,y), (x+w, y+h), (255, 0, 0), 2)\n",
    "        for (x, y, w, h) in profiles:\n",
    "            cv.rectangle(img, (x,y), (x+w, y+h), (0, 255, 0), 2)\n",
    "\n",
    "        #cv.imshow('img', img)\n",
    "\n",
    "        if len(faces) > 0 or len(profiles) > 0:\n",
    "            tfaces += 1\n",
    "        else:\n",
    "            tfaces += 0\n",
    "\n",
    "        current_frame += 1\n",
    "        print(f'Frame: {current_frame}/{num_frames}', end='\\r')\n",
    "\n",
    "        k = cv.waitKey(30) & 0xff\n",
    "        if k==27:\n",
    "            break\n",
    "\n",
    "    print('Faces detected in {} on {} frames.'.format(tfaces, num_frames))\n",
    "    cap.release()\n",
    "\n",
    "    return tfaces, num_frames"
   ]
  },
  {
   "cell_type": "code",
   "execution_count": 15,
   "metadata": {},
   "outputs": [],
   "source": [
    "def main():\n",
    "    cont = 0\n",
    "    cm = np.zeros((2, 2))\n",
    "\n",
    "    while True:\n",
    "        try:\n",
    "            face, noFace = detectFace(cont)\n",
    "            cm[cont] = [face, noFace-face]\n",
    "            cont += 1\n",
    "        except IndexError:\n",
    "            print('Done!')\t\n",
    "            break\n",
    "\n",
    "    print('Confusion Matrix: \\n', cm)\n",
    "    report = classification_report(cm)\n",
    "    print('Classification report: \\n', report)\n",
    "\n",
    "    plt.figure(figsize=(5, 5))\n",
    "    plt.imshow(cm, cmap=\"Greens\")\n",
    "    plt.title(\"Confusion matrix\")\n",
    "    plt.xlabel(\"Predicted label\")\n",
    "    plt.ylabel(\"True label\")\n",
    "    plt.xticks([0, 1], labels=[\"Face\", \"No Face\"])\n",
    "    plt.yticks([0, 1], labels=[\"Face\", \"No Face\"])\n",
    "\n",
    "    for i in range(len(cm)):\n",
    "        for j in range(len(cm[0])):\n",
    "            plt.text(j, i, cm[i][j], ha='center', va='center')\n",
    "\n",
    "    plt.show()"
   ]
  },
  {
   "cell_type": "code",
   "execution_count": 16,
   "metadata": {},
   "outputs": [
    {
     "name": "stdout",
     "output_type": "stream",
     "text": [
      "Faces detected in 3493 on 3610 frames.\n",
      "Faces detected in 25 on 3610 frames.\n",
      "Done!\n",
      "Confusion Matrix: \n",
      " [[3493.  117.]\n",
      " [  25. 3585.]]\n",
      "Classification report: \n",
      "    precision    recall  f1-score  support\n",
      "0   0.967590  0.992894  0.980079     3610\n",
      "1   0.993075  0.968395  0.980580     3610\n"
     ]
    },
    {
     "data": {
      "image/png": "[encoded data removed]",
      "text/plain": [
       "<Figure size 500x500 with 1 Axes>"
      ]
     },
     "metadata": {},
     "output_type": "display_data"
    }
   ],
   "source": [
    "if __name__ == '__main__':\n",
    "    main()"
   ]
  }
 ],
 "metadata": {
  "kernelspec": {
   "display_name": "Python 3",
   "language": "python",
   "name": "python3"
  },
  "language_info": {
   "codemirror_mode": {
    "name": "ipython",
    "version": 3
   },
   "file_extension": ".py",
   "mimetype": "text/x-python",
   "name": "python",
   "nbconvert_exporter": "python",
   "pygments_lexer": "ipython3",
   "version": "3.11.5"
  },
  "orig_nbformat": 4
 },
 "nbformat": 4,
 "nbformat_minor": 2
}
